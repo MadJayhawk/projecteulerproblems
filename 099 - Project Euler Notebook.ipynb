{
 "cells": [
  {
   "cell_type": "code",
   "execution_count": null,
   "metadata": {},
   "outputs": [],
   "source": []
  },
  {
   "cell_type": "code",
   "execution_count": 7,
   "metadata": {},
   "outputs": [
    {
     "name": "stdout",
     "output_type": "stream",
     "text": [
      "84 2 2 6\n"
     ]
    }
   ],
   "source": [
    "from sympy import sieve,isprime\n",
    "import itertools\n",
    "import math\n",
    "sieve._reset() # this line for doctest only\n",
    "sieve.extend(10000)\n",
    "cc=list(sieve._list)\n",
    "# print(cc)\n",
    "for i in range(5,1000,100):\n",
    "    print(i,i-5,i+100)\n",
    "    bb=cc[i-5:i+95]\n",
    "    # print(bb)\n",
    "    # print(len(bb),bb)\n",
    "    # print(math.comb(len(bb),4))\n",
    "    x=list(itertools.combinations(bb,5))\n",
    "\n",
    "    for a,b,c,d,e in x:\n",
    "\n",
    "        if isprime(int(str(a)+str(b))) and isprime(int(str(b)+str(a)))\\\n",
    "        and isprime(int(str(a)+str(c))) and isprime(int(str(c)+str(a)))\\\n",
    "        and isprime(int(str(a)+str(d))) and isprime(int(str(d)+str(a))) \\\n",
    "        and isprime(int(str(b)+str(c))) and isprime(int(str(c)+str(b))) \\\n",
    "        and isprime(int(str(b)+str(d))) and isprime(int(str(d)+str(b))) \\\n",
    "        and isprime(int(str(c)+str(d))) and isprime(int(str(d)+str(c))) \\\n",
    "        and isprime(int(str(a)+str(e))) and isprime(int(str(e)+str(a))) \\\n",
    "        and isprime(int(str(b)+str(e))) and isprime(int(str(e)+str(b))) \\\n",
    "        and isprime(int(str(c)+str(e))) and isprime(int(str(e)+str(c))) \\\n",
    "        and isprime(int(str(d)+str(e))) and isprime(int(str(e)+str(d))):\n",
    "            print(f'All Primes  {a},{b},{c},{d},{e}  =  {sum([a,b,c,d,e])}')\n",
    "            break"
   ]
  },
  {
   "cell_type": "code",
   "execution_count": 5,
   "metadata": {},
   "outputs": [
    {
     "name": "stdout",
     "output_type": "stream",
     "text": [
      "[]\n"
     ]
    }
   ],
   "source": [
    "def find_links(values):\n",
    "    links = []\n",
    "    for i in range(len(values) - 1):\n",
    "        for j in range(i + 1, len(values)):\n",
    "            first = str(values[i])\n",
    "            second = str(values[j])\n",
    "            common_digits = 0\n",
    "            for k in range(4):\n",
    "                if first[k] == second[k]:\n",
    "                    common_digits += 1\n",
    "            if common_digits >= 3:\n",
    "                links.append((first, second))\n",
    "    return links\n",
    "\n",
    "values = [1234, 2345, 3456, 4567, 5678, 6789]\n",
    "print(find_links(values))\n",
    "\n",
    "def find_links(values):\n",
    "    links = []\n",
    "    for i in range(len(values) - 1):\n",
    "        for j in range(i + 1, len(values)):\n",
    "            first = values[i]\n",
    "            second = values[j]\n",
    "            ab1 = first // 100\n",
    "            cd1 = first % 100\n",
    "            ab2 = second // 100\n",
    "            cd2 = second % 100\n",
    "            if ab1 == ab2 or cd1 == cd2:\n",
    "                links.append((first, second))\n",
    "    return links\n",
    "\n",
    "values = [1234, 2345, 3456, 4567, 5678, 6789]\n",
    "print(find_links(values))\n",
    "\n",
    "\n",
    "def find_links(list1, list2, list3):\n",
    "    values = list1 + list2 + list3\n",
    "    links = []\n",
    "    for i in range(len(values) - 1):\n",
    "        for j in range(i + 1, len(values)):\n",
    "            first = values[i]\n",
    "            second = values[j]\n",
    "            ab1 = first // 100\n",
    "            cd1 = first % 100\n",
    "            ab2 = second // 100\n",
    "            cd2 = second % 100\n",
    "            if ab1 == cd2 or ab2 == cd1:\n",
    "                links.append((first, second))\n",
    "    return links\n",
    "\n",
    "list1 = [1234, 2345, 3456]\n",
    "list2 = [4567, 5678, 6789]\n",
    "list3 = [7890, 8901, 9012]\n",
    "print(find_links(list1, list2, list3))\n"
   ]
  },
  {
   "cell_type": "code",
   "execution_count": null,
   "metadata": {},
   "outputs": [],
   "source": []
  },
  {
   "cell_type": "code",
   "execution_count": null,
   "metadata": {},
   "outputs": [],
   "source": []
  }
 ],
 "metadata": {
  "kernelspec": {
   "display_name": "Python 3",
   "language": "python",
   "name": "python3"
  },
  "language_info": {
   "codemirror_mode": {
    "name": "ipython",
    "version": 3
   },
   "file_extension": ".py",
   "mimetype": "text/x-python",
   "name": "python",
   "nbconvert_exporter": "python",
   "pygments_lexer": "ipython3",
   "version": "3.9.12"
  },
  "vscode": {
   "interpreter": {
    "hash": "c5e30cafd6875ec8d1d9c12e2c7422f174ff5937344735ecd57526a485ff1d45"
   }
  }
 },
 "nbformat": 4,
 "nbformat_minor": 2
}

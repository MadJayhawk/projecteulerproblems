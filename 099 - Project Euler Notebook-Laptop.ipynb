{
 "cells": [
  {
   "cell_type": "code",
   "execution_count": 12,
   "metadata": {},
   "outputs": [
    {
     "name": "stdout",
     "output_type": "stream",
     "text": [
      "97\n",
      "36 $ 69 E\n",
      "22 \u0016 119 w\n",
      "80 P 49 1\n",
      "0 \u0000 97 a\n",
      "0 \u0000 97 a\n",
      "4 \u0004 101 e\n",
      "23 \u0017 118 v\n",
      "25 \u0019 120 x\n",
      "19 \u0013 114 r\n",
      "17 \u0011 112 p\n",
      "88 X 57 9\n",
      "4 \u0004 101 e\n",
      "4 \u0004 101 e\n",
      "19 \u0013 114 r\n",
      "21 \u0015 116 t\n",
      "11 \u000b 106 j\n",
      "88 X 57 9\n",
      "22 \u0016 119 w\n",
      "23 \u0017 118 v\n",
      "23 \u0017 118 v\n"
     ]
    }
   ],
   "source": [
    "a='36,22,80,0,0,4,23,25,19,17,88,4,4,19,21,11,88,22,23,23'\n",
    "b=map(int,a.split(','))\n",
    "m=ord('a')\n",
    "print(m)\n",
    "b=list(b)\n",
    "for i in b:\n",
    "   print(i,chr(i),m^i,chr(m^i))\n",
    "   "
   ]
  }
 ],
 "metadata": {
  "kernelspec": {
   "display_name": "Python 3",
   "language": "python",
   "name": "python3"
  },
  "language_info": {
   "codemirror_mode": {
    "name": "ipython",
    "version": 3
   },
   "file_extension": ".py",
   "mimetype": "text/x-python",
   "name": "python",
   "nbconvert_exporter": "python",
   "pygments_lexer": "ipython3",
   "version": "3.9.12"
  },
  "orig_nbformat": 4,
  "vscode": {
   "interpreter": {
    "hash": "c5e30cafd6875ec8d1d9c12e2c7422f174ff5937344735ecd57526a485ff1d45"
   }
  }
 },
 "nbformat": 4,
 "nbformat_minor": 2
}
